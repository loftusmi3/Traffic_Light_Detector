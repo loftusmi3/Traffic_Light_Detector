{
 "cells": [
  {
   "cell_type": "code",
   "execution_count": 1,
   "id": "c681f103",
   "metadata": {},
   "outputs": [],
   "source": [
    "import cv2\n",
    "import numpy as np\n",
    "import pdb"
   ]
  },
  {
   "cell_type": "code",
   "execution_count": 19,
   "id": "a863a5ba",
   "metadata": {},
   "outputs": [],
   "source": [
    "def get_output_layers(net):\n",
    "    \n",
    "    layer_names = net.getLayerNames()\n",
    "    try:\n",
    "        output_layers = [layer_names[i - 1] for i in net.getUnconnectedOutLayers()]\n",
    "    except:\n",
    "        output_layers = [layer_names[i[0] - 1] for i in net.getUnconnectedOutLayers()]\n",
    "\n",
    "    return output_layers\n",
    "\n",
    "\n",
    "def draw_prediction(img, class_id, confidence, x, y, x_plus_w, y_plus_h):\n",
    "\n",
    "    label = str(classes[class_id])\n",
    "\n",
    "    color = COLORS[class_id]\n",
    "\n",
    "    cv2.rectangle(img, (x,y), (x_plus_w,y_plus_h), color, 2)\n",
    "\n",
    "    cv2.putText(img, label, (x-10,y-10), cv2.FONT_HERSHEY_SIMPLEX, 0.5, color, 2)\n",
    "\n",
    "\n",
    "def get_box(image, config, weights, classes_input):\n",
    "    \n",
    "    Width = image.shape[1]\n",
    "    Height = image.shape[0]\n",
    "    scale = 0.00392\n",
    "    \n",
    "    net = cv2.dnn.readNet(weights, config)\n",
    "    \n",
    "    classes = None\n",
    "    with open(classes_input, 'r') as f:\n",
    "        classes = [line.strip() for line in f.readlines()]\n",
    "    COLORS = np.random.uniform(0, 255, size=(len(classes), 3))\n",
    "        \n",
    "    blob = cv2.dnn.blobFromImage(image, scale, (416,416), (0,0,0), True, crop=False)\n",
    "    net.setInput(blob)\n",
    "\n",
    "    outs = net.forward(get_output_layers(net))\n",
    "\n",
    "    class_ids = []\n",
    "    confidences = []\n",
    "    boxes = []\n",
    "    conf_threshold = 0.75\n",
    "    nms_threshold = 0.4\n",
    "\n",
    "\n",
    "    for out in outs:\n",
    "        for detection in out:\n",
    "            scores = detection[5:]\n",
    "            class_id = np.argmax(scores)\n",
    "            confidence = scores[class_id]\n",
    "            if confidence > 0.5 and class_id==9:\n",
    "                center_x = int(detection[0] * Width)\n",
    "                center_y = int(detection[1] * Height)\n",
    "                w = int(detection[2] * Width)\n",
    "                h = int(detection[3] * Height)\n",
    "                x = center_x - w / 2\n",
    "                y = center_y - h / 2\n",
    "                class_ids.append(class_id)\n",
    "                confidences.append(float(confidence))\n",
    "                boxes.append([x, y, w, h])\n",
    "\n",
    "    indices = cv2.dnn.NMSBoxes(boxes, confidences, conf_threshold, nms_threshold)\n",
    "\n",
    "    class_ids = np.asarray(class_ids)\n",
    "    boxes = np.asarray(boxes)\n",
    "    \n",
    "    pdb.set_trace()\n",
    "    return boxes[class_ids == 9]\n",
    "    '''\n",
    "    indices = cv2.dnn.NMSBoxes(boxes, confidences, conf_threshold, nms_threshold)\n",
    "    img_to_ret = image.copy()\n",
    "    \n",
    "    for i in indices:\n",
    "        try:\n",
    "            box = boxes[i]\n",
    "        except:\n",
    "            i = i[0]\n",
    "            box = boxes[i]\n",
    "\n",
    "        x = box[0]\n",
    "        y = box[1]\n",
    "        w = box[2]\n",
    "        h = box[3]\n",
    "        draw_prediction(img_to_ret, class_ids[i], confidences[i], round(x), round(y), round(x+w), round(y+h))'''"
   ]
  },
  {
   "cell_type": "code",
   "execution_count": 17,
   "id": "6ce8be42",
   "metadata": {},
   "outputs": [],
   "source": [
    "test = cv2.imread(\"Valid_Traffic_Lights/traffic_light0_00001.jpg\")\n",
    "config = \"../Detector/yolov3.cfg\"\n",
    "weights = \"../Detector/yolov3.weights\"\n",
    "classes_input = \"../Detector/yolov3.txt\""
   ]
  },
  {
   "cell_type": "code",
   "execution_count": 20,
   "id": "352d3937",
   "metadata": {},
   "outputs": [
    {
     "name": "stdout",
     "output_type": "stream",
     "text": [
      "> \u001b[1;32mc:\\users\\micha\\appdata\\local\\temp\\ipykernel_27576\\4265264174.py\u001b[0m(70)\u001b[0;36mget_box\u001b[1;34m()\u001b[0m\n",
      "\n",
      "ipdb> boxes\n",
      "array([], dtype=float64)\n",
      "--KeyboardInterrupt--\n",
      "\n",
      "KeyboardInterrupt: Interrupted by user\n"
     ]
    },
    {
     "data": {
      "text/plain": [
       "array([], dtype=float64)"
      ]
     },
     "execution_count": 20,
     "metadata": {},
     "output_type": "execute_result"
    }
   ],
   "source": [
    "get_box(test, config, weights, classes_input)"
   ]
  },
  {
   "cell_type": "code",
   "execution_count": 21,
   "id": "da1bbe79",
   "metadata": {},
   "outputs": [
    {
     "data": {
      "text/plain": [
       "array([[[186, 190, 185],\n",
       "        [186, 190, 185],\n",
       "        [185, 189, 184],\n",
       "        ...,\n",
       "        [183, 188, 186],\n",
       "        [183, 188, 186],\n",
       "        [183, 188, 186]],\n",
       "\n",
       "       [[186, 190, 185],\n",
       "        [185, 189, 184],\n",
       "        [185, 189, 184],\n",
       "        ...,\n",
       "        [183, 188, 186],\n",
       "        [183, 188, 186],\n",
       "        [183, 188, 186]],\n",
       "\n",
       "       [[186, 189, 187],\n",
       "        [185, 188, 186],\n",
       "        [185, 188, 186],\n",
       "        ...,\n",
       "        [183, 188, 186],\n",
       "        [183, 188, 186],\n",
       "        [183, 188, 186]],\n",
       "\n",
       "       ...,\n",
       "\n",
       "       [[ 56,  52,  51],\n",
       "        [ 58,  54,  53],\n",
       "        [ 56,  52,  51],\n",
       "        ...,\n",
       "        [ 60,  59,  55],\n",
       "        [ 64,  63,  59],\n",
       "        [ 62,  61,  57]],\n",
       "\n",
       "       [[ 58,  53,  52],\n",
       "        [ 56,  51,  50],\n",
       "        [ 55,  51,  50],\n",
       "        ...,\n",
       "        [ 56,  53,  49],\n",
       "        [ 60,  57,  53],\n",
       "        [ 59,  58,  54]],\n",
       "\n",
       "       [[ 58,  53,  52],\n",
       "        [ 56,  51,  50],\n",
       "        [ 55,  51,  50],\n",
       "        ...,\n",
       "        [ 56,  53,  49],\n",
       "        [ 60,  57,  53],\n",
       "        [ 59,  58,  54]]], dtype=uint8)"
      ]
     },
     "execution_count": 21,
     "metadata": {},
     "output_type": "execute_result"
    }
   ],
   "source": [
    "test"
   ]
  },
  {
   "cell_type": "code",
   "execution_count": null,
   "id": "aee6dccf",
   "metadata": {},
   "outputs": [],
   "source": []
  }
 ],
 "metadata": {
  "kernelspec": {
   "display_name": "Python 3 (ipykernel)",
   "language": "python",
   "name": "python3"
  },
  "language_info": {
   "codemirror_mode": {
    "name": "ipython",
    "version": 3
   },
   "file_extension": ".py",
   "mimetype": "text/x-python",
   "name": "python",
   "nbconvert_exporter": "python",
   "pygments_lexer": "ipython3",
   "version": "3.7.12"
  }
 },
 "nbformat": 4,
 "nbformat_minor": 5
}
