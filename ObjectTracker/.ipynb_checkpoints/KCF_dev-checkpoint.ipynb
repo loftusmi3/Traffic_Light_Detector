{
 "cells": [
  {
   "cell_type": "code",
   "execution_count": 1,
   "id": "fc4c60ba",
   "metadata": {},
   "outputs": [],
   "source": [
    "import cv2\n",
    "import sys\n",
    "sys.path.append(\"../Detector\")\n",
    "import detector\n",
    "import pdb"
   ]
  },
  {
   "cell_type": "code",
   "execution_count": 3,
   "id": "353a0070",
   "metadata": {},
   "outputs": [
    {
     "name": "stderr",
     "output_type": "stream",
     "text": [
      "C:\\Users\\micha\\anaconda3\\envs\\vision\\lib\\site-packages\\ipykernel_launcher.py:1: DeprecationWarning: the imp module is deprecated in favour of importlib; see the module's documentation for alternative uses\n",
      "  \"\"\"Entry point for launching an IPython kernel.\n"
     ]
    },
    {
     "data": {
      "text/plain": [
       "<module 'detector' from '../Detector\\\\detector.py'>"
      ]
     },
     "execution_count": 3,
     "metadata": {},
     "output_type": "execute_result"
    }
   ],
   "source": [
    "import imp\n",
    "imp.reload(detector)"
   ]
  },
  {
   "cell_type": "code",
   "execution_count": 2,
   "id": "1824c218",
   "metadata": {},
   "outputs": [],
   "source": [
    "# Adapted (but mostly copied) from https://learnopencv.com/object-tracking-using-opencv-cpp-python/\n",
    "\n",
    "config = \"../Detector/yolov3.cfg\"\n",
    "weights = \"../Detector/yolov3.weights\"\n",
    "classes_input = \"../Detector/yolov3.txt\"\n",
    "\n",
    "tracker = cv2.TrackerKCF_create()\n",
    "\n",
    "video = cv2.VideoCapture(\"test_video.mp4\")\n",
    "    # Exit if video not opened.\n",
    "if not video.isOpened():\n",
    "    print(\"Video not found\")\n",
    "    sys.exit()\n",
    "    \n",
    "ok, frame = video.read()\n",
    "if not ok:\n",
    "    print('Cannot read video file')\n",
    "    sys.exit()\n",
    "    \n",
    "# Assume just one traffic light for now\n",
    "bbox = detector.get_box(frame, config, weights, classes_input)"
   ]
  },
  {
   "cell_type": "code",
   "execution_count": 3,
   "id": "82921dab",
   "metadata": {},
   "outputs": [],
   "source": [
    "# Initialize tracker with first frame and bounding box\n",
    "tracker.init(frame, (bbox[0][0],bbox[0][1],bbox[0][2],bbox[0][3]))\n",
    "\n",
    "while ok:\n",
    "    ok, frame = video.read()\n",
    "\n",
    "    # Start timer\n",
    "    timer = cv2.getTickCount()\n",
    "\n",
    "    ok, bbox = tracker.update(frame)\n",
    "\n",
    "    fps = cv2.getTickFrequency() / (cv2.getTickCount() - timer);\n",
    "\n",
    "    # Draw bounding box\n",
    "    if ok:\n",
    "        # Tracking success\n",
    "        p1 = (int(bbox[0]), int(bbox[1]))\n",
    "        p2 = (int(bbox[0] + bbox[2]), int(bbox[1] + bbox[3]))\n",
    "        cv2.rectangle(frame, p1, p2, (255,0,0), 2)\n",
    "        pdb.set_trace()\n",
    "    else :\n",
    "        # Tracking failure\n",
    "        cv2.putText(frame, \"Tracking failure detected\", (100,80), cv2.FONT_HERSHEY_SIMPLEX, 0.75,(0,0,255),2)\n",
    "\n",
    "    # Display tracker type on frame\n",
    "    cv2.putText(frame, \"KCFTracker\", (100,20), cv2.FONT_HERSHEY_SIMPLEX, 0.75, (50,170,50),2);\n",
    "\n",
    "    # Display FPS on frame\n",
    "    cv2.putText(frame, \"FPS : \" + str(int(fps)), (100,50), cv2.FONT_HERSHEY_SIMPLEX, 0.75, (50,170,50), 2);\n",
    "\n",
    "    # Display result\n",
    "    cv2.imshow(\"Tracking\", frame)\n",
    "\n",
    "    # Exit if ESC pressed\n",
    "    k = cv2.waitKey(1) & 0xff\n",
    "    if k == 27 : break\n",
    "\n",
    "    # Read next frame for next iteration of the while loop\n",
    "    ok, frame = video.read()"
   ]
  },
  {
   "cell_type": "code",
   "execution_count": 22,
   "id": "cf1fd42c",
   "metadata": {},
   "outputs": [
    {
     "data": {
      "text/plain": [
       "(523.0, 700.0, 84.0, 147.0)"
      ]
     },
     "execution_count": 22,
     "metadata": {},
     "output_type": "execute_result"
    }
   ],
   "source": []
  },
  {
   "cell_type": "code",
   "execution_count": null,
   "id": "ec4b4bda",
   "metadata": {},
   "outputs": [],
   "source": []
  }
 ],
 "metadata": {
  "kernelspec": {
   "display_name": "Python 3 (ipykernel)",
   "language": "python",
   "name": "python3"
  },
  "language_info": {
   "codemirror_mode": {
    "name": "ipython",
    "version": 3
   },
   "file_extension": ".py",
   "mimetype": "text/x-python",
   "name": "python",
   "nbconvert_exporter": "python",
   "pygments_lexer": "ipython3",
   "version": "3.7.12"
  }
 },
 "nbformat": 4,
 "nbformat_minor": 5
}
